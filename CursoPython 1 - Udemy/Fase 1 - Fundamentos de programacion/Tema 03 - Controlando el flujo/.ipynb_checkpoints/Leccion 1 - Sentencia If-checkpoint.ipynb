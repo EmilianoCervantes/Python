{
 "cells": [
  {
   "cell_type": "code",
   "execution_count": 1,
   "metadata": {},
   "outputs": [
    {
     "name": "stdout",
     "output_type": "stream",
     "text": [
      "Verdadero\n"
     ]
    }
   ],
   "source": [
    "if True:\n",
    "    print(\"Verdadero\")"
   ]
  },
  {
   "cell_type": "code",
   "execution_count": 2,
   "metadata": {},
   "outputs": [
    {
     "name": "stdout",
     "output_type": "stream",
     "text": [
      "Se cumple\n"
     ]
    }
   ],
   "source": [
    "if not False:\n",
    "    print(\"Se cumple\")"
   ]
  },
  {
   "cell_type": "code",
   "execution_count": 3,
   "metadata": {},
   "outputs": [
    {
     "name": "stdout",
     "output_type": "stream",
     "text": [
      "No 3\n"
     ]
    }
   ],
   "source": [
    "a = 5\n",
    "if a == 2:\n",
    "    print(\"2\")\n",
    "if not a == 3:\n",
    "    print(\"No 3\")"
   ]
  },
  {
   "cell_type": "code",
   "execution_count": 4,
   "metadata": {},
   "outputs": [
    {
     "name": "stdout",
     "output_type": "stream",
     "text": [
      "5 y 10\n"
     ]
    }
   ],
   "source": [
    "b = 10\n",
    "if a==5 and b==10:\n",
    "    print(\"5 y 10\")"
   ]
  },
  {
   "cell_type": "code",
   "execution_count": 6,
   "metadata": {},
   "outputs": [
    {
     "name": "stdout",
     "output_type": "stream",
     "text": [
      "10 es par\n"
     ]
    }
   ],
   "source": [
    "n = 10\n",
    "if n%2 == 0:\n",
    "    print(n,\"es par\")\n",
    "else:\n",
    "    print(n,\"es impar\")"
   ]
  },
  {
   "cell_type": "code",
   "execution_count": 11,
   "metadata": {},
   "outputs": [
    {
     "name": "stdout",
     "output_type": "stream",
     "text": [
      "igual\n"
     ]
    }
   ],
   "source": [
    "c = 1\n",
    "if c > 1:\n",
    "    print(\"Mayor\")\n",
    "elif c < 1:\n",
    "    print(\"Menor\")\n",
    "else:\n",
    "    print(\"igual\")"
   ]
  },
  {
   "cell_type": "code",
   "execution_count": 15,
   "metadata": {},
   "outputs": [],
   "source": [
    "d = 5\n",
    "if d > 3:\n",
    "    pass\n",
    "#pass es para un bloque condicional en el que no hay nada\n",
    "#Si entra, le decimos que lo pase"
   ]
  },
  {
   "cell_type": "markdown",
   "metadata": {},
   "source": [
    "# No hay switch en Python\n",
    "## No interesa, se puede simular su comportamiento"
   ]
  },
  {
   "cell_type": "code",
   "execution_count": null,
   "metadata": {
    "collapsed": true
   },
   "outputs": [],
   "source": []
  }
 ],
 "metadata": {
  "kernelspec": {
   "display_name": "Python 3",
   "language": "python",
   "name": "python3"
  },
  "language_info": {
   "codemirror_mode": {
    "name": "ipython",
    "version": 3
   },
   "file_extension": ".py",
   "mimetype": "text/x-python",
   "name": "python",
   "nbconvert_exporter": "python",
   "pygments_lexer": "ipython3",
   "version": "3.6.3"
  }
 },
 "nbformat": 4,
 "nbformat_minor": 1
}
