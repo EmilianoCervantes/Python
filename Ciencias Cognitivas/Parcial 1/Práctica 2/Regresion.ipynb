{
 "cells": [
  {
   "cell_type": "code",
   "execution_count": 1,
   "metadata": {
    "collapsed": true
   },
   "outputs": [],
   "source": [
    "import pandas as pd\n",
    "import numpy as np\n",
    "import matplotlib.pyplot as plt"
   ]
  },
  {
   "cell_type": "code",
   "execution_count": 2,
   "metadata": {},
   "outputs": [
    {
     "name": "stdout",
     "output_type": "stream",
     "text": [
      "    mpg  cylinders  displacement horsepower  weight  acceleration  model_year  \\\n",
      "0  18.0          8         307.0        130    3504          12.0          70   \n",
      "1  15.0          8         350.0        165    3693          11.5          70   \n",
      "2  18.0          8         318.0        150    3436          11.0          70   \n",
      "3  16.0          8         304.0        150    3433          12.0          70   \n",
      "4  17.0          8         302.0        140    3449          10.5          70   \n",
      "\n",
      "   origin                       name  \n",
      "0       1  chevrolet chevelle malibu  \n",
      "1       1          buick skylark 320  \n",
      "2       1         plymouth satellite  \n",
      "3       1              amc rebel sst  \n",
      "4       1                ford torino  \n"
     ]
    }
   ],
   "source": [
    "df = pd.read_csv('mpg.csv')\n",
    "print(df.head())"
   ]
  },
  {
   "cell_type": "code",
   "execution_count": 3,
   "metadata": {
    "collapsed": true
   },
   "outputs": [],
   "source": [
    "df = df.drop('name', axis=1)"
   ]
  },
  {
   "cell_type": "code",
   "execution_count": 4,
   "metadata": {},
   "outputs": [
    {
     "name": "stdout",
     "output_type": "stream",
     "text": [
      "    mpg  cylinders  displacement horsepower  weight  acceleration  model_year  \\\n",
      "0  18.0          8         307.0        130    3504          12.0          70   \n",
      "1  15.0          8         350.0        165    3693          11.5          70   \n",
      "2  18.0          8         318.0        150    3436          11.0          70   \n",
      "3  16.0          8         304.0        150    3433          12.0          70   \n",
      "4  17.0          8         302.0        140    3449          10.5          70   \n",
      "\n",
      "   origin  \n",
      "0       1  \n",
      "1       1  \n",
      "2       1  \n",
      "3       1  \n",
      "4       1  \n"
     ]
    }
   ],
   "source": [
    "print(df.head())"
   ]
  },
  {
   "cell_type": "code",
   "execution_count": 5,
   "metadata": {},
   "outputs": [
    {
     "name": "stdout",
     "output_type": "stream",
     "text": [
      "    mpg  cylinders  displacement horsepower  weight  acceleration  model_year  \\\n",
      "0  18.0          8         307.0        130    3504          12.0          70   \n",
      "1  15.0          8         350.0        165    3693          11.5          70   \n",
      "2  18.0          8         318.0        150    3436          11.0          70   \n",
      "3  16.0          8         304.0        150    3433          12.0          70   \n",
      "4  17.0          8         302.0        140    3449          10.5          70   \n",
      "\n",
      "   origin_america  origin_europa  origin_japon  \n",
      "0               1              0             0  \n",
      "1               1              0             0  \n",
      "2               1              0             0  \n",
      "3               1              0             0  \n",
      "4               1              0             0  \n"
     ]
    }
   ],
   "source": [
    "df['origin'] = df['origin'].replace({1:'america',2:'europa',3:'japon'})\n",
    "df = pd.get_dummies(df, columns = ['origin'])\n",
    "print(df.head())"
   ]
  },
  {
   "cell_type": "code",
   "execution_count": 6,
   "metadata": {
    "collapsed": true
   },
   "outputs": [],
   "source": [
    "df = df.replace('?', np.nan)\n",
    "df = df.dropna()"
   ]
  },
  {
   "cell_type": "code",
   "execution_count": 7,
   "metadata": {},
   "outputs": [
    {
     "name": "stdout",
     "output_type": "stream",
     "text": [
      "     cylinders  displacement horsepower  weight  acceleration  model_year  \\\n",
      "0            8         307.0        130    3504          12.0          70   \n",
      "1            8         350.0        165    3693          11.5          70   \n",
      "2            8         318.0        150    3436          11.0          70   \n",
      "3            8         304.0        150    3433          12.0          70   \n",
      "4            8         302.0        140    3449          10.5          70   \n",
      "5            8         429.0        198    4341          10.0          70   \n",
      "6            8         454.0        220    4354           9.0          70   \n",
      "7            8         440.0        215    4312           8.5          70   \n",
      "8            8         455.0        225    4425          10.0          70   \n",
      "9            8         390.0        190    3850           8.5          70   \n",
      "10           8         383.0        170    3563          10.0          70   \n",
      "11           8         340.0        160    3609           8.0          70   \n",
      "12           8         400.0        150    3761           9.5          70   \n",
      "13           8         455.0        225    3086          10.0          70   \n",
      "14           4         113.0         95    2372          15.0          70   \n",
      "15           6         198.0         95    2833          15.5          70   \n",
      "16           6         199.0         97    2774          15.5          70   \n",
      "17           6         200.0         85    2587          16.0          70   \n",
      "18           4          97.0         88    2130          14.5          70   \n",
      "19           4          97.0         46    1835          20.5          70   \n",
      "20           4         110.0         87    2672          17.5          70   \n",
      "21           4         107.0         90    2430          14.5          70   \n",
      "22           4         104.0         95    2375          17.5          70   \n",
      "23           4         121.0        113    2234          12.5          70   \n",
      "24           6         199.0         90    2648          15.0          70   \n",
      "25           8         360.0        215    4615          14.0          70   \n",
      "26           8         307.0        200    4376          15.0          70   \n",
      "27           8         318.0        210    4382          13.5          70   \n",
      "28           8         304.0        193    4732          18.5          70   \n",
      "29           4          97.0         88    2130          14.5          71   \n",
      "..         ...           ...        ...     ...           ...         ...   \n",
      "367          4         112.0         88    2605          19.6          82   \n",
      "368          4         112.0         88    2640          18.6          82   \n",
      "369          4         112.0         88    2395          18.0          82   \n",
      "370          4         112.0         85    2575          16.2          82   \n",
      "371          4         135.0         84    2525          16.0          82   \n",
      "372          4         151.0         90    2735          18.0          82   \n",
      "373          4         140.0         92    2865          16.4          82   \n",
      "375          4         105.0         74    1980          15.3          82   \n",
      "376          4          91.0         68    2025          18.2          82   \n",
      "377          4          91.0         68    1970          17.6          82   \n",
      "378          4         105.0         63    2125          14.7          82   \n",
      "379          4          98.0         70    2125          17.3          82   \n",
      "380          4         120.0         88    2160          14.5          82   \n",
      "381          4         107.0         75    2205          14.5          82   \n",
      "382          4         108.0         70    2245          16.9          82   \n",
      "383          4          91.0         67    1965          15.0          82   \n",
      "384          4          91.0         67    1965          15.7          82   \n",
      "385          4          91.0         67    1995          16.2          82   \n",
      "386          6         181.0        110    2945          16.4          82   \n",
      "387          6         262.0         85    3015          17.0          82   \n",
      "388          4         156.0         92    2585          14.5          82   \n",
      "389          6         232.0        112    2835          14.7          82   \n",
      "390          4         144.0         96    2665          13.9          82   \n",
      "391          4         135.0         84    2370          13.0          82   \n",
      "392          4         151.0         90    2950          17.3          82   \n",
      "393          4         140.0         86    2790          15.6          82   \n",
      "394          4          97.0         52    2130          24.6          82   \n",
      "395          4         135.0         84    2295          11.6          82   \n",
      "396          4         120.0         79    2625          18.6          82   \n",
      "397          4         119.0         82    2720          19.4          82   \n",
      "\n",
      "     origin_america  origin_europa  origin_japon  \n",
      "0                 1              0             0  \n",
      "1                 1              0             0  \n",
      "2                 1              0             0  \n",
      "3                 1              0             0  \n",
      "4                 1              0             0  \n",
      "5                 1              0             0  \n",
      "6                 1              0             0  \n",
      "7                 1              0             0  \n",
      "8                 1              0             0  \n",
      "9                 1              0             0  \n",
      "10                1              0             0  \n",
      "11                1              0             0  \n",
      "12                1              0             0  \n",
      "13                1              0             0  \n",
      "14                0              0             1  \n",
      "15                1              0             0  \n",
      "16                1              0             0  \n",
      "17                1              0             0  \n",
      "18                0              0             1  \n",
      "19                0              1             0  \n",
      "20                0              1             0  \n",
      "21                0              1             0  \n",
      "22                0              1             0  \n",
      "23                0              1             0  \n",
      "24                1              0             0  \n",
      "25                1              0             0  \n",
      "26                1              0             0  \n",
      "27                1              0             0  \n",
      "28                1              0             0  \n",
      "29                0              0             1  \n",
      "..              ...            ...           ...  \n",
      "367               1              0             0  \n",
      "368               1              0             0  \n",
      "369               1              0             0  \n",
      "370               1              0             0  \n",
      "371               1              0             0  \n",
      "372               1              0             0  \n",
      "373               1              0             0  \n",
      "375               0              1             0  \n",
      "376               0              0             1  \n",
      "377               0              0             1  \n",
      "378               1              0             0  \n",
      "379               1              0             0  \n",
      "380               0              0             1  \n",
      "381               0              0             1  \n",
      "382               0              0             1  \n",
      "383               0              0             1  \n",
      "384               0              0             1  \n",
      "385               0              0             1  \n",
      "386               1              0             0  \n",
      "387               1              0             0  \n",
      "388               1              0             0  \n",
      "389               1              0             0  \n",
      "390               0              0             1  \n",
      "391               1              0             0  \n",
      "392               1              0             0  \n",
      "393               1              0             0  \n",
      "394               0              1             0  \n",
      "395               1              0             0  \n",
      "396               1              0             0  \n",
      "397               1              0             0  \n",
      "\n",
      "[392 rows x 9 columns]\n",
      "      mpg\n",
      "0    18.0\n",
      "1    15.0\n",
      "2    18.0\n",
      "3    16.0\n",
      "4    17.0\n",
      "5    15.0\n",
      "6    14.0\n",
      "7    14.0\n",
      "8    14.0\n",
      "9    15.0\n",
      "10   15.0\n",
      "11   14.0\n",
      "12   15.0\n",
      "13   14.0\n",
      "14   24.0\n",
      "15   22.0\n",
      "16   18.0\n",
      "17   21.0\n",
      "18   27.0\n",
      "19   26.0\n",
      "20   25.0\n",
      "21   24.0\n",
      "22   25.0\n",
      "23   26.0\n",
      "24   21.0\n",
      "25   10.0\n",
      "26   10.0\n",
      "27   11.0\n",
      "28    9.0\n",
      "29   27.0\n",
      "..    ...\n",
      "367  28.0\n",
      "368  27.0\n",
      "369  34.0\n",
      "370  31.0\n",
      "371  29.0\n",
      "372  27.0\n",
      "373  24.0\n",
      "375  36.0\n",
      "376  37.0\n",
      "377  31.0\n",
      "378  38.0\n",
      "379  36.0\n",
      "380  36.0\n",
      "381  36.0\n",
      "382  34.0\n",
      "383  38.0\n",
      "384  32.0\n",
      "385  38.0\n",
      "386  25.0\n",
      "387  38.0\n",
      "388  26.0\n",
      "389  22.0\n",
      "390  32.0\n",
      "391  36.0\n",
      "392  27.0\n",
      "393  27.0\n",
      "394  44.0\n",
      "395  32.0\n",
      "396  28.0\n",
      "397  31.0\n",
      "\n",
      "[392 rows x 1 columns]\n"
     ]
    }
   ],
   "source": [
    "x = df.drop('mpg', axis=1)\n",
    "y = df[['mpg']]\n",
    "print(x)\n",
    "print(y)"
   ]
  },
  {
   "cell_type": "code",
   "execution_count": 8,
   "metadata": {
    "collapsed": true
   },
   "outputs": [],
   "source": [
    "from sklearn.model_selection import train_test_split"
   ]
  },
  {
   "cell_type": "code",
   "execution_count": 12,
   "metadata": {
    "collapsed": true
   },
   "outputs": [],
   "source": [
    "Xtrain, Xtest, ytrain, ytest = train_test_split(x,y,test_size = 0.25, random_state=1)"
   ]
  },
  {
   "cell_type": "code",
   "execution_count": 19,
   "metadata": {},
   "outputs": [
    {
     "data": {
      "text/plain": [
       "LinearRegression(copy_X=True, fit_intercept=True, n_jobs=1, normalize=False)"
      ]
     },
     "execution_count": 19,
     "metadata": {},
     "output_type": "execute_result"
    }
   ],
   "source": [
    "from sklearn.linear_model import LinearRegression\n",
    "lr = LinearRegression()\n",
    "#entrena el modelo\n",
    "lr.fit(Xtrain, ytrain)"
   ]
  },
  {
   "cell_type": "code",
   "execution_count": 20,
   "metadata": {},
   "outputs": [
    {
     "name": "stdout",
     "output_type": "stream",
     "text": [
      "Coeficiente cylinders == -0.2463375587\n",
      "Coeficiente displacement == 0.0238703383071\n",
      "Coeficiente horsepower == -0.00601723861777\n",
      "Coeficiente weight == -0.0073364329439\n",
      "Coeficiente acceleration == 0.218977781041\n",
      "Coeficiente model_year == 0.785180107278\n",
      "Coeficiente origin_america == -1.76249340922\n",
      "Coeficiente origin_europa == 0.952866490134\n",
      "Coeficiente origin_japon == 0.809626919086\n"
     ]
    }
   ],
   "source": [
    "for i, columna in enumerate(Xtrain.columns):\n",
    "    print('Coeficiente', columna, \"==\", lr.coef_[0][i])"
   ]
  },
  {
   "cell_type": "code",
   "execution_count": 21,
   "metadata": {
    "collapsed": true
   },
   "outputs": [],
   "source": [
    "#Theta 0\n",
    "inte = lr.intercept_[0]"
   ]
  },
  {
   "cell_type": "code",
   "execution_count": 22,
   "metadata": {},
   "outputs": [
    {
     "name": "stdout",
     "output_type": "stream",
     "text": [
      "-19.8091838488\n"
     ]
    }
   ],
   "source": [
    "print(inte)"
   ]
  },
  {
   "cell_type": "code",
   "execution_count": 24,
   "metadata": {},
   "outputs": [
    {
     "data": {
      "text/plain": [
       "array([[ 28.9061176]])"
      ]
     },
     "execution_count": 24,
     "metadata": {},
     "output_type": "execute_result"
    }
   ],
   "source": [
    "lr.predict([[4,123,110,2800,15.6,81,0,1,0]])"
   ]
  },
  {
   "cell_type": "code",
   "execution_count": 26,
   "metadata": {},
   "outputs": [
    {
     "data": {
      "text/plain": [
       "0.82852313164597735"
      ]
     },
     "execution_count": 26,
     "metadata": {},
     "output_type": "execute_result"
    }
   ],
   "source": [
    "#r^2\n",
    "lr.score(Xtest, ytest)"
   ]
  },
  {
   "cell_type": "code",
   "execution_count": null,
   "metadata": {
    "collapsed": true
   },
   "outputs": [],
   "source": []
  }
 ],
 "metadata": {
  "kernelspec": {
   "display_name": "Python 3",
   "language": "python",
   "name": "python3"
  },
  "language_info": {
   "codemirror_mode": {
    "name": "ipython",
    "version": 3
   },
   "file_extension": ".py",
   "mimetype": "text/x-python",
   "name": "python",
   "nbconvert_exporter": "python",
   "pygments_lexer": "ipython3",
   "version": "3.6.3"
  }
 },
 "nbformat": 4,
 "nbformat_minor": 2
}
