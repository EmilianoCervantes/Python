{
 "cells": [
  {
   "cell_type": "code",
   "execution_count": 1,
   "metadata": {
    "collapsed": true
   },
   "outputs": [],
   "source": [
    "import numpy as np\n",
    "import pandas as pn\n",
    "\n",
    "x = np.array(([3,5],[5,1],[10,2]), dtype = float)\n",
    "y = np.array(([75],[82],[93]), dtype = float)\n",
    "\n",
    "xnorm = x/np.amax(x, axis=0)\n",
    "ynorm = y/np.amax(y, axis=0)"
   ]
  },
  {
   "cell_type": "code",
   "execution_count": 12,
   "metadata": {},
   "outputs": [],
   "source": [
    "class RedNeuronal(object):\n",
    "    def __init__(self):\n",
    "        self.inputs = 2\n",
    "        self.hidden = 3\n",
    "        self.outputs = 1        \n",
    "        self.W1 = np.random.randn(self.inputs, self.hidden)\n",
    "        self.W2 = np.random.randn(self.hidden, self.outputs)\n",
    "    #funcion de activacion\n",
    "    def sigmoide(self, z):\n",
    "        return 1/(1+np.exp(-z))\n",
    "    #funcion de sigmoide sobre\n",
    "    def forward(self, X):\n",
    "        self.z2 = np.dot(X, self.W1)\n",
    "        self.a2 = self.sigmoide(self.z2)\n",
    "        self.z3 = np.dot(self.a2, self.W2)\n",
    "        yHat = self.sigmoide(self.z3)\n",
    "        return yHat\n",
    "    #funcion de costo es la cuadratica\n",
    "    #saber el error de la red\n",
    "    def funcionCosto(self,X, y):\n",
    "        self.yHat = self.forward(X)\n",
    "        Costo = 0.5*sum((y-self.yHat)**2)\n",
    "        return Costo\n",
    "    ##Falta el backpropagation"
   ]
  },
  {
   "cell_type": "code",
   "execution_count": 20,
   "metadata": {},
   "outputs": [
    {
     "data": {
      "text/plain": [
       "array([[ 0.48358057],\n",
       "       [ 0.48294176],\n",
       "       [ 0.48446742]])"
      ]
     },
     "execution_count": 20,
     "metadata": {},
     "output_type": "execute_result"
    }
   ],
   "source": [
    "RN = RedNeuronal()\n",
    "yHat = RN.forward(x)\n",
    "yHat"
   ]
  },
  {
   "cell_type": "code",
   "execution_count": 21,
   "metadata": {},
   "outputs": [
    {
     "data": {
      "text/plain": [
       "array([ 10378.42565901])"
      ]
     },
     "execution_count": 21,
     "metadata": {},
     "output_type": "execute_result"
    }
   ],
   "source": [
    "RN.funcionCosto(x,y)"
   ]
  },
  {
   "cell_type": "code",
   "execution_count": null,
   "metadata": {
    "collapsed": true
   },
   "outputs": [],
   "source": []
  }
 ],
 "metadata": {
  "kernelspec": {
   "display_name": "Python 3",
   "language": "python",
   "name": "python3"
  },
  "language_info": {
   "codemirror_mode": {
    "name": "ipython",
    "version": 3
   },
   "file_extension": ".py",
   "mimetype": "text/x-python",
   "name": "python",
   "nbconvert_exporter": "python",
   "pygments_lexer": "ipython3",
   "version": "3.6.3"
  }
 },
 "nbformat": 4,
 "nbformat_minor": 2
}
